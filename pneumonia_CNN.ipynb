{
 "cells": [
  {
   "cell_type": "code",
   "execution_count": 1,
   "id": "least-fishing",
   "metadata": {},
   "outputs": [],
   "source": [
    "from tensorflow.keras.preprocessing.image import ImageDataGenerator, load_img\n",
    "from tensorflow.keras.optimizers import RMSprop\n",
    "import matplotlib.pyplot as plt\n",
    "import tensorflow as tf\n",
    "import numpy as np\n",
    "import cv2, os"
   ]
  },
  {
   "cell_type": "code",
   "execution_count": 2,
   "id": "knowing-chance",
   "metadata": {},
   "outputs": [],
   "source": [
    "train = ImageDataGenerator(rescale=1./255)\n",
    "validation = ImageDataGenerator(rescale=1./255)"
   ]
  },
  {
   "cell_type": "code",
   "execution_count": 3,
   "id": "neither-building",
   "metadata": {
    "scrolled": true
   },
   "outputs": [
    {
     "name": "stdout",
     "output_type": "stream",
     "text": [
      "Found 5216 images belonging to 2 classes.\n",
      "Found 16 images belonging to 2 classes.\n",
      "Found 624 images belonging to 2 classes.\n"
     ]
    }
   ],
   "source": [
    "train_dataset= train.flow_from_directory('processed_data/train', \n",
    "                                         target_size=(255,255), \n",
    "                                         batch_size = 1,\n",
    "                                         class_mode='categorical')\n",
    "val_dataset= validation.flow_from_directory('processed_data/val', \n",
    "                                         target_size=(255,255), \n",
    "                                         batch_size = 1,\n",
    "                                         class_mode='categorical')\n",
    "test_dataset= validation.flow_from_directory('processed_data/test', \n",
    "                                         target_size=(255,255), \n",
    "                                         batch_size = 1,\n",
    "                                         class_mode='categorical')"
   ]
  },
  {
   "cell_type": "code",
   "execution_count": 4,
   "id": "engaging-edinburgh",
   "metadata": {},
   "outputs": [],
   "source": [
    "model = tf.keras.models.Sequential([tf.keras.layers.Conv2D(24, (3,3), activation='relu', input_shape=(255,255,3)),\n",
    "                                   tf.keras.layers.MaxPool2D(2,2),\n",
    "                                   tf.keras.layers.Conv2D(32, (3,3), activation='relu'),\n",
    "                                   tf.keras.layers.MaxPool2D(2,2),\n",
    "                                   tf.keras.layers.Conv2D(64, (3,3), activation='relu'),\n",
    "                                   tf.keras.layers.MaxPool2D(2,2),\n",
    "                                    tf.keras.layers.Flatten(),\n",
    "                                   tf.keras.layers.Dense(512, activation='relu'),\n",
    "                                   tf.keras.layers.Dense(2, activation=tf.nn.softmax)\n",
    "                                   ])"
   ]
  },
  {
   "cell_type": "code",
   "execution_count": 5,
   "id": "valued-supplement",
   "metadata": {},
   "outputs": [],
   "source": [
    "model.compile(optimizer='adam',\n",
    "             loss='categorical_crossentropy',\n",
    "             metrics=['accuracy'])\n",
    "\n",
    "model.optimizer.lr = 0.0005"
   ]
  },
  {
   "cell_type": "code",
   "execution_count": 6,
   "id": "valued-savings",
   "metadata": {},
   "outputs": [
    {
     "name": "stdout",
     "output_type": "stream",
     "text": [
      "Epoch 1/10\n",
      "100/100 [==============================] - 19s 189ms/step - loss: 0.7868 - accuracy: 0.6591 - val_loss: 0.4660 - val_accuracy: 0.8125\n",
      "Epoch 2/10\n",
      "100/100 [==============================] - 18s 182ms/step - loss: 0.4455 - accuracy: 0.8024 - val_loss: 0.6428 - val_accuracy: 0.6250\n",
      "Epoch 3/10\n",
      "100/100 [==============================] - 18s 176ms/step - loss: 0.3894 - accuracy: 0.8116 - val_loss: 0.5418 - val_accuracy: 0.6250\n",
      "Epoch 4/10\n",
      "100/100 [==============================] - 18s 184ms/step - loss: 0.3352 - accuracy: 0.8609 - val_loss: 0.5580 - val_accuracy: 0.6250\n",
      "Epoch 5/10\n",
      "100/100 [==============================] - 18s 179ms/step - loss: 0.3072 - accuracy: 0.9123 - val_loss: 0.5873 - val_accuracy: 0.8125\n",
      "Epoch 6/10\n",
      "100/100 [==============================] - 19s 187ms/step - loss: 0.5110 - accuracy: 0.8111 - val_loss: 0.4208 - val_accuracy: 0.7500\n",
      "Epoch 7/10\n",
      "100/100 [==============================] - 18s 180ms/step - loss: 0.4008 - accuracy: 0.8466 - val_loss: 0.4857 - val_accuracy: 0.6250\n",
      "Epoch 8/10\n",
      "100/100 [==============================] - 18s 176ms/step - loss: 0.2629 - accuracy: 0.9182 - val_loss: 0.3254 - val_accuracy: 0.8125\n",
      "Epoch 9/10\n",
      "100/100 [==============================] - 18s 180ms/step - loss: 0.1523 - accuracy: 0.9354 - val_loss: 0.5016 - val_accuracy: 0.6875\n",
      "Epoch 10/10\n",
      "100/100 [==============================] - 18s 182ms/step - loss: 0.2636 - accuracy: 0.9376 - val_loss: 0.2899 - val_accuracy: 0.8750\n"
     ]
    }
   ],
   "source": [
    "model_fit = model.fit(train_dataset, \n",
    "                     steps_per_epoch=100,\n",
    "                     epochs=10,\n",
    "                     validation_data=val_dataset)"
   ]
  },
  {
   "cell_type": "code",
   "execution_count": 7,
   "id": "false-heaven",
   "metadata": {
    "scrolled": true
   },
   "outputs": [
    {
     "name": "stdout",
     "output_type": "stream",
     "text": [
      "624/624 [==============================] - 12s 19ms/step - loss: 0.3874 - accuracy: 0.8333\n"
     ]
    }
   ],
   "source": [
    "model.save('/Users/rajatdoshi/Desktop/pneumonia_CNN/pneumonia_classifier.h5')\n",
    "test_loss, test_acc = model.evaluate(test_dataset, verbose=1)"
   ]
  }
 ],
 "metadata": {
  "kernelspec": {
   "display_name": "Python 3",
   "language": "python",
   "name": "python3"
  },
  "language_info": {
   "codemirror_mode": {
    "name": "ipython",
    "version": 3
   },
   "file_extension": ".py",
   "mimetype": "text/x-python",
   "name": "python",
   "nbconvert_exporter": "python",
   "pygments_lexer": "ipython3",
   "version": "3.8.0"
  }
 },
 "nbformat": 4,
 "nbformat_minor": 5
}

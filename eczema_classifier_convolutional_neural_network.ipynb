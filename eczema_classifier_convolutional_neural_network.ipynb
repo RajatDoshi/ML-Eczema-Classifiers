{
 "cells": [
  {
   "cell_type": "code",
   "execution_count": 1,
   "id": "protecting-staff",
   "metadata": {},
   "outputs": [],
   "source": [
    "from tensorflow.keras.preprocessing.image import ImageDataGenerator, load_img\n",
    "from tensorflow.keras.optimizers import RMSprop\n",
    "import matplotlib.pyplot as plt\n",
    "import tensorflow as tf\n",
    "import numpy as np\n",
    "import cv2, os"
   ]
  },
  {
   "cell_type": "code",
   "execution_count": 2,
   "id": "elder-attachment",
   "metadata": {},
   "outputs": [],
   "source": [
    "train = ImageDataGenerator(rescale=1./255)\n",
    "validation = ImageDataGenerator(rescale=1./255)"
   ]
  },
  {
   "cell_type": "code",
   "execution_count": 3,
   "id": "middle-underground",
   "metadata": {},
   "outputs": [
    {
     "name": "stdout",
     "output_type": "stream",
     "text": [
      "Found 930 images belonging to 6 classes.\n",
      "Found 309 images belonging to 6 classes.\n",
      "Found 313 images belonging to 6 classes.\n"
     ]
    }
   ],
   "source": [
    "train_dataset= train.flow_from_directory('processed_data/train', \n",
    "                                         target_size=(200,200), \n",
    "                                         batch_size = 1,\n",
    "                                         class_mode='categorical')\n",
    "val_dataset= validation.flow_from_directory('processed_data/val', \n",
    "                                         target_size=(200,200), \n",
    "                                         batch_size = 3,\n",
    "                                         class_mode='categorical')\n",
    "test_dataset= train.flow_from_directory('processed_data/test', \n",
    "                                         target_size=(200,200), \n",
    "                                         batch_size = 3,\n",
    "                                         class_mode='categorical')"
   ]
  },
  {
   "cell_type": "code",
   "execution_count": 4,
   "id": "suited-overall",
   "metadata": {},
   "outputs": [
    {
     "data": {
      "text/plain": [
       "{'AtopicDermatitis': 0,\n",
       " 'ContactDermatitis': 1,\n",
       " 'DyshidroticEczema': 2,\n",
       " 'HandEczema': 3,\n",
       " 'NummularEczema': 4,\n",
       " 'StasisDermatitis': 5}"
      ]
     },
     "execution_count": 4,
     "metadata": {},
     "output_type": "execute_result"
    }
   ],
   "source": [
    "#to see the classes in nueral network\n",
    "train_dataset.class_indices"
   ]
  },
  {
   "cell_type": "code",
   "execution_count": 5,
   "id": "optical-alert",
   "metadata": {},
   "outputs": [],
   "source": [
    "model = tf.keras.models.Sequential([tf.keras.layers.Conv2D(16, (3,3), activation='relu', input_shape=(200,200,3)),\n",
    "                                   tf.keras.layers.MaxPool2D(2,2),\n",
    "                                   tf.keras.layers.Conv2D(32, (3,3), activation='relu'),\n",
    "                                   tf.keras.layers.MaxPool2D(2,2),\n",
    "                                   tf.keras.layers.Conv2D(64, (3,3), activation='relu'),\n",
    "                                   tf.keras.layers.MaxPool2D(2,2),\n",
    "                                   tf.keras.layers.Flatten(),\n",
    "                                   tf.keras.layers.Dense(512, activation='relu'),\n",
    "                                   tf.keras.layers.Dense(6, activation=tf.nn.softmax)\n",
    "                                   ])"
   ]
  },
  {
   "cell_type": "code",
   "execution_count": 6,
   "id": "historical-activity",
   "metadata": {},
   "outputs": [],
   "source": [
    "model.compile(optimizer='adam',\n",
    "             loss='categorical_crossentropy',\n",
    "             metrics=['accuracy'])"
   ]
  },
  {
   "cell_type": "code",
   "execution_count": 13,
   "id": "common-kingdom",
   "metadata": {},
   "outputs": [
    {
     "name": "stdout",
     "output_type": "stream",
     "text": [
      "Epoch 1/10\n",
      " 930/1000 [==========================>...] - ETA: 7s - loss: 1.8095 - accuracy: 0.1925WARNING:tensorflow:Your input ran out of data; interrupting training. Make sure that your dataset or generator can generate at least `steps_per_epoch * epochs` batches (in this case, 10000 batches). You may need to use the repeat() function when building your dataset.\n",
      "1000/1000 [==============================] - 101s 101ms/step - loss: 1.8095 - accuracy: 0.1925 - val_loss: 1.8503 - val_accuracy: 0.1586\n"
     ]
    }
   ],
   "source": [
    "model_fit = model.fit(train_dataset, \n",
    "                     steps_per_epoch=20,\n",
    "                     epochs=10,\n",
    "                     validation_data=val_dataset)"
   ]
  },
  {
   "cell_type": "code",
   "execution_count": 9,
   "id": "hairy-valentine",
   "metadata": {},
   "outputs": [
    {
     "name": "stdout",
     "output_type": "stream",
     "text": [
      "105/105 [==============================] - 2s 17ms/step - loss: 2.3890 - accuracy: 0.1725\n"
     ]
    }
   ],
   "source": [
    "test_loss, test_acc = model.evaluate(test_dataset, verbose=1)"
   ]
  },
  {
   "cell_type": "code",
   "execution_count": null,
   "id": "southern-italian",
   "metadata": {},
   "outputs": [],
   "source": []
  }
 ],
 "metadata": {
  "kernelspec": {
   "display_name": "Python 3",
   "language": "python",
   "name": "python3"
  },
  "language_info": {
   "codemirror_mode": {
    "name": "ipython",
    "version": 3
   },
   "file_extension": ".py",
   "mimetype": "text/x-python",
   "name": "python",
   "nbconvert_exporter": "python",
   "pygments_lexer": "ipython3",
   "version": "3.8.0"
  }
 },
 "nbformat": 4,
 "nbformat_minor": 5
}

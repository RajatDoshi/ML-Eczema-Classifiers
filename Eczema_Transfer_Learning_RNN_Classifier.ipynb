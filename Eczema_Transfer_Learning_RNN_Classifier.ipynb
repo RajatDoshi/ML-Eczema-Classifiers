{
 "cells": [
  {
   "cell_type": "code",
   "execution_count": 1,
   "id": "modified-demand",
   "metadata": {},
   "outputs": [],
   "source": [
    "from tensorflow.keras.layers import Conv2D, Flatten, Dense, MaxPool2D, BatchNormalization, GlobalAveragePooling2D\n",
    "from tensorflow.keras.applications.resnet50 import preprocess_input, decode_predictions, ResNet50\n",
    "from tensorflow.keras.preprocessing.image import ImageDataGenerator, load_img\n",
    "from tensorflow.keras.models import Model, Sequential\n",
    "from tensorflow.keras.preprocessing import image\n",
    "from tensorflow.keras.models import Sequential\n",
    "import matplotlib.pyplot as plt\n",
    "import splitfolders\n",
    "import numpy as np"
   ]
  },
  {
   "cell_type": "code",
   "execution_count": 2,
   "id": "narrow-stone",
   "metadata": {},
   "outputs": [
    {
     "name": "stderr",
     "output_type": "stream",
     "text": [
      "Copying files: 1554 files [00:00, 2683.47 files/s]\n"
     ]
    }
   ],
   "source": [
    "#take data and randomly distribute them (remove bias with chance)\n",
    "path = '/Users/rajatdoshi/Desktop/excema_classifier/dataset'\n",
    "output = '/Users/rajatdoshi/Desktop/excema_classifier/processed_data'\n",
    "splitfolders.ratio(path, output, seed=42, ratio=(.6,.2,.2))"
   ]
  },
  {
   "cell_type": "code",
   "execution_count": 3,
   "id": "detailed-arnold",
   "metadata": {},
   "outputs": [],
   "source": [
    "img_height, img_width = (224,224)\n",
    "batch_size = 32\n",
    "\n",
    "train_data_dir = r'/Users/rajatdoshi/Desktop/excema_classifier/processed_data/train'\n",
    "valid_data_dir = r'/Users/rajatdoshi/Desktop/excema_classifier/processed_data/val'\n",
    "test_data_dir = r'/Users/rajatdoshi/Desktop/excema_classifier/processed_data/test'"
   ]
  },
  {
   "cell_type": "code",
   "execution_count": 4,
   "id": "aggregate-nylon",
   "metadata": {},
   "outputs": [
    {
     "name": "stdout",
     "output_type": "stream",
     "text": [
      "Found 560 images belonging to 6 classes.\n",
      "Found 121 images belonging to 6 classes.\n",
      "Found 123 images belonging to 6 classes.\n"
     ]
    }
   ],
   "source": [
    "train_datagen = ImageDataGenerator(preprocessing_function=preprocess_input,\n",
    "                                  shear_range=0.2,\n",
    "                                  zoom_range=0.2,\n",
    "                                  horizontal_flip=True,\n",
    "                                  validation_split=0.4)\n",
    "\n",
    "train_generator = train_datagen.flow_from_directory(\n",
    "    train_data_dir,\n",
    "    target_size=(img_height, img_width),\n",
    "    batch_size=1,\n",
    "    class_mode='categorical',\n",
    "    subset='training')\n",
    "\n",
    "valid_generator = train_datagen.flow_from_directory(\n",
    "    valid_data_dir,\n",
    "    target_size=(img_height, img_width),\n",
    "    batch_size=1,\n",
    "    class_mode='categorical',\n",
    "    subset='validation')\n",
    "\n",
    "test_generator = train_datagen.flow_from_directory(\n",
    "    test_data_dir,\n",
    "    target_size=(img_height, img_width),\n",
    "    batch_size=1,\n",
    "    class_mode='categorical',\n",
    "    subset='validation')"
   ]
  },
  {
   "cell_type": "code",
   "execution_count": 5,
   "id": "headed-teacher",
   "metadata": {},
   "outputs": [
    {
     "name": "stdout",
     "output_type": "stream",
     "text": [
      "Epoch 1/2\n",
      "560/560 [==============================] - 56s 96ms/step - loss: 3.1541 - accuracy: 0.2709\n",
      "Epoch 2/2\n",
      "560/560 [==============================] - 51s 91ms/step - loss: 1.4721 - accuracy: 0.4129\n"
     ]
    },
    {
     "data": {
      "text/plain": [
       "<tensorflow.python.keras.callbacks.History at 0x7fca298993d0>"
      ]
     },
     "execution_count": 5,
     "metadata": {},
     "output_type": "execute_result"
    }
   ],
   "source": [
    "base_model = ResNet50(include_top=False, weights='imagenet')\n",
    "x = base_model.output\n",
    "x = GlobalAveragePooling2D()(x)\n",
    "x= Dense(1024, activation='relu')(x)\n",
    "predictions = Dense(train_generator.num_classes, activation='softmax')(x)\n",
    "model = Model(inputs=base_model.input, outputs=predictions)\n",
    "\n",
    "for layer in base_model.layers:\n",
    "    layer.trainable = False\n",
    "\n",
    "model.compile(optimizer='adam', loss='categorical_crossentropy', metrics=['accuracy'])\n",
    "model.fit(train_generator, epochs=2)"
   ]
  },
  {
   "cell_type": "code",
   "execution_count": 6,
   "id": "criminal-customs",
   "metadata": {},
   "outputs": [],
   "source": [
    "model.save('/Users/rajatdoshi/Desktop/tf/eczemaclassifier.h5')"
   ]
  },
  {
   "cell_type": "code",
   "execution_count": 7,
   "id": "plastic-socket",
   "metadata": {},
   "outputs": [
    {
     "name": "stdout",
     "output_type": "stream",
     "text": [
      "123/123 [==============================] - 11s 84ms/step - loss: 1.3700 - accuracy: 0.4146\n",
      "\n",
      "Test Accuracy:  0.4146341383457184\n"
     ]
    }
   ],
   "source": [
    "test_loss, test_acc = model.evaluate(test_generator, verbose=1)\n",
    "print('\\nTest Accuracy: ', test_acc)"
   ]
  }
 ],
 "metadata": {
  "kernelspec": {
   "display_name": "Python 3",
   "language": "python",
   "name": "python3"
  },
  "language_info": {
   "codemirror_mode": {
    "name": "ipython",
    "version": 3
   },
   "file_extension": ".py",
   "mimetype": "text/x-python",
   "name": "python",
   "nbconvert_exporter": "python",
   "pygments_lexer": "ipython3",
   "version": "3.8.0"
  }
 },
 "nbformat": 4,
 "nbformat_minor": 5
}
